{
 "cells": [
  {
   "cell_type": "markdown",
   "id": "dba7f8c2",
   "metadata": {},
   "source": [
    "1. Guido van Rossum\n",
    "2. Object oriented, structured and functional programming\n",
    "3. Yes, it treats upper case and lower case as different\n",
    "4. .py\n",
    "5. Interpreted\n",
    "6. a module, a function body, and a class definition\n",
    "7. Hash(#)\n",
    "8. Sys.version\n",
    "9. Lambda\n",
    "10. Preferred Installed Program\n",
    "11. type(), range(),max(),min()\n",
    "12. 79 characters\n",
    "13. Open source, portable,easy to learn,dynamically types\n",
    "14. Private heap\n",
    "15. This PC>Advanced System Settings>System Properties>Environment Variables>Path>edit>new>set path>click ok\n",
    "16. yes"
   ]
  },
  {
   "cell_type": "code",
   "execution_count": null,
   "id": "9d4e958d",
   "metadata": {},
   "outputs": [],
   "source": [
    "# 29 Jan Answers"
   ]
  }
 ],
 "metadata": {
  "kernelspec": {
   "display_name": "Python 3 (ipykernel)",
   "language": "python",
   "name": "python3"
  },
  "language_info": {
   "codemirror_mode": {
    "name": "ipython",
    "version": 3
   },
   "file_extension": ".py",
   "mimetype": "text/x-python",
   "name": "python",
   "nbconvert_exporter": "python",
   "pygments_lexer": "ipython3",
   "version": "3.9.7"
  }
 },
 "nbformat": 4,
 "nbformat_minor": 5
}
