{
 "cells": [
  {
   "cell_type": "markdown",
   "id": "93ccef39",
   "metadata": {},
   "source": []
  },
  {
   "cell_type": "markdown",
   "id": "407b53cb",
   "metadata": {},
   "source": [
    "1.APIs are mechanisms that enable two software components to communicate with each other using a set of definitions and protocols.\n",
    "Example- Gpay is an API interface between user and bank.\n",
    "2.Advantages:\n",
    "-Increased Interoperability\n",
    "-Improved Efficiency\n",
    "-Better User Experience\n",
    "-Increased Flexibility\n",
    "-New Revenue Streams\n",
    "Disadvantages:\n",
    "-Security Concerns\n",
    "-Complexity\n",
    "-Compatibility Issues\n",
    "-Dependency on Third-Party Developers\n",
    "-Governance and Management\n",
    "3.Web API is a collection of open source protocols and standards used for exchanging data between systems or applications, whereas API is a software interface that allows two applications to interact with each other without any user involvement.All Web services are APIs, but all APIs are not web services.Web API supports only HTTP protocol, whereas API supports HTTP,SMTP,TCP protocol.\n",
    "4.Soap stands for Simple object Axis protocol whereas Rest stands for Representational State Transfer.SOAP (Simple Object Access Protocol) is a message protocol that enables the distributed elements of an application to communicate. SOAP can be carried over a variety of standard protocols, including the web-related Hypertext Transfer Protocol (HTTP).WHereas REST (REpresentational State Transfer) is an architectural style for developing web services. REST is popular due to its simplicity and the fact that it builds upon existing systems and features of the internet's Hypertext Transfer Protocol (HTTP) in order to achieve its objectives, as opposed to creating new standards, frameworks and technologies.\n",
    "Soap is not as flexible as Rest.Also, there is no provision for passing data by reference. This can cause synchronization issues if multiple copies of the same object are passed simultaneously.\n",
    "5. Difference between REST and SOAP\n",
    "-Rest uses HTTP, Soap uses TCP/SMTP .\n",
    "-Rest is more flexible,scalable , simpler than Soap.\n",
    "-Rest is less secured as compared to Soap.\n",
    "-Rest uses PUt, Get,POst,Delete whereas Soap uses XML."
   ]
  }
 ],
 "metadata": {
  "kernelspec": {
   "display_name": "Python 3 (ipykernel)",
   "language": "python",
   "name": "python3"
  },
  "language_info": {
   "codemirror_mode": {
    "name": "ipython",
    "version": 3
   },
   "file_extension": ".py",
   "mimetype": "text/x-python",
   "name": "python",
   "nbconvert_exporter": "python",
   "pygments_lexer": "ipython3",
   "version": "3.9.7"
  }
 },
 "nbformat": 4,
 "nbformat_minor": 5
}
